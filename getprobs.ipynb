{
 "cells": [
  {
   "cell_type": "markdown",
   "id": "f8253367",
   "metadata": {},
   "source": [
    "## Get Probs\n",
    "### Alexandra Higley\n",
    "\n",
    "A function that uses isQSO_randomforest from cuts.py (desi targets tool) which can call the probabilities associated with QSO targets and return them as an array. It takes in a single parameter, filename, which is the path and name of the FITS file with the objects that you would like to find probabilities on."
   ]
  },
  {
   "cell_type": "code",
   "execution_count": 1,
   "id": "e14fae08",
   "metadata": {},
   "outputs": [
    {
     "ename": "ModuleNotFoundError",
     "evalue": "No module named 'fitsio'",
     "output_type": "error",
     "traceback": [
      "\u001b[0;31m---------------------------------------------------------------------------\u001b[0m",
      "\u001b[0;31mModuleNotFoundError\u001b[0m                       Traceback (most recent call last)",
      "\u001b[0;32m<ipython-input-1-08cf99b272fc>\u001b[0m in \u001b[0;36m<module>\u001b[0;34m\u001b[0m\n\u001b[0;32m----> 1\u001b[0;31m \u001b[0;32mimport\u001b[0m \u001b[0mfitsio\u001b[0m\u001b[0;34m\u001b[0m\u001b[0;34m\u001b[0m\u001b[0m\n\u001b[0m\u001b[1;32m      2\u001b[0m \u001b[0;32mimport\u001b[0m \u001b[0mnumpy\u001b[0m\u001b[0;34m.\u001b[0m\u001b[0mlib\u001b[0m\u001b[0;34m.\u001b[0m\u001b[0mrecfunctions\u001b[0m \u001b[0;32mas\u001b[0m \u001b[0mrfn\u001b[0m\u001b[0;34m\u001b[0m\u001b[0;34m\u001b[0m\u001b[0m\n\u001b[1;32m      3\u001b[0m \u001b[0;32mimport\u001b[0m \u001b[0mnumpy\u001b[0m \u001b[0;32mas\u001b[0m \u001b[0mnp\u001b[0m\u001b[0;34m\u001b[0m\u001b[0;34m\u001b[0m\u001b[0m\n\u001b[1;32m      4\u001b[0m \u001b[0;32mfrom\u001b[0m \u001b[0mcuts\u001b[0m \u001b[0;32mimport\u001b[0m \u001b[0m_prepare_optical_wise\u001b[0m\u001b[0;34m\u001b[0m\u001b[0;34m\u001b[0m\u001b[0m\n\u001b[1;32m      5\u001b[0m \u001b[0;32mfrom\u001b[0m \u001b[0mcuts\u001b[0m \u001b[0;32mimport\u001b[0m \u001b[0misQSO_randomforest\u001b[0m\u001b[0;34m\u001b[0m\u001b[0;34m\u001b[0m\u001b[0m\n",
      "\u001b[0;31mModuleNotFoundError\u001b[0m: No module named 'fitsio'"
     ]
    }
   ],
   "source": [
    "import fitsio\n",
    "import numpy.lib.recfunctions as rfn\n",
    "import numpy as np\n",
    "from cuts import _prepare_optical_wise\n",
    "from cuts import isQSO_randomforest\n",
    "from astropy.table import Table, Column\n",
    "import glob\n",
    "import os"
   ]
  },
  {
   "cell_type": "markdown",
   "id": "b214ab43",
   "metadata": {},
   "source": [
    "First, the desired FITS file is read in as **a**. Then, for prepare-optical-wise to work, we need to rename the headers BRICK_OBJID and MORPHTYPE to OBJID and TYPE. Once that is done, we can call the funciton ```_prepare_optical_wise``` from ```cuts.py``` to prepare the object measurements for ```isQSO_randomforest```. It will return all the necessary measurements, which can then be used as parameters for ```isQSO_randomforest```. For example, gflux is set equal to gflux, the latter of which was an output from ```_prepare_optical_wise```. Additionally, ```return_probs``` is set to **True** so that it will then return an array of probabilities— one for each object in the FITS file. It will also tell you how many of the probabilities are non-zero.\n",
    "\n",
    "The second part of the function creates a new FITS table which contains the DESI_TARGET, the TARGETID, RA, DEC and a new header I call PROB, which are the probabilities returned from ```isQSO_randomforest```. This new file will be called ```targetprobs.fits```"
   ]
  },
  {
   "cell_type": "code",
   "execution_count": 1,
   "id": "2a4dce1f",
   "metadata": {},
   "outputs": [],
   "source": [
    "def probtable(filename):\n",
    "\n",
    "    a = fitsio.read(filename)\n",
    "\n",
    "    #Have to rename certain colnames to make it compatible with prepare_optical and isQSO_randomforest\n",
    "    objects = rfn.rename_fields(a,{'BRICK_OBJID':'OBJID', 'MORPHTYPE':'TYPE'})\n",
    "\n",
    "    #using prepare_optical to prep targets\n",
    "    photsys_north, photsys_south, obs_rflux, gflux, rflux, zflux, w1flux, w2flux, gfiberflux, rfiberflux, zfiberflux, gfibertotflux, rfibertotflux, zfibertotflux, objtype, release, ra, dec, gfluxivar, rfluxivar, zfluxivar, w1fluxivar, gnobs, rnobs, znobs, gfracflux, rfracflux, zfracflux, gfracmasked, rfracmasked, zfracmasked, gfracin, rfracin, zfracin, gallmask, rallmask, zallmask,gsnr, rsnr, zsnr, w1snr, w2snr, dchisq, deltaChi2, maskbits, refcat = _prepare_optical_wise(objects, mask=True)\n",
    "    \n",
    "    #calling probabilities \n",
    "    south, probs = isQSO_randomforest(gflux=gflux, rflux=rflux, zflux=zflux,maskbits=maskbits, w1flux=w1flux, w2flux=w2flux, objtype=objtype, gnobs=gnobs, rnobs=rnobs, znobs=znobs,primary=None, ra=ra, dec=dec, south= True, return_probs= True)\n",
    "\n",
    "    print(\"number of nonzero probs are: \" + str(np.sum(probs > 0)))\n",
    "    \n",
    "    #making fits file with found probabilities \n",
    "    data = Table()\n",
    "    data['DESI_TARGET'] = a['DESI_TARGET']\n",
    "    data['TARGETID'] = a['TARGETID']\n",
    "    data['RA'] = a['RA']\n",
    "    data['DEC'] = a['DEC']\n",
    "    data['PROB'] = probs\n",
    "\n",
    "    data.write('targetprobs.fits', format='fits')"
   ]
  },
  {
   "cell_type": "code",
   "execution_count": null,
   "id": "536b3b5b",
   "metadata": {},
   "outputs": [],
   "source": []
  }
 ],
 "metadata": {
  "kernelspec": {
   "display_name": "Python 3",
   "language": "python",
   "name": "python3"
  },
  "language_info": {
   "codemirror_mode": {
    "name": "ipython",
    "version": 3
   },
   "file_extension": ".py",
   "mimetype": "text/x-python",
   "name": "python",
   "nbconvert_exporter": "python",
   "pygments_lexer": "ipython3",
   "version": "3.8.8"
  }
 },
 "nbformat": 4,
 "nbformat_minor": 5
}
